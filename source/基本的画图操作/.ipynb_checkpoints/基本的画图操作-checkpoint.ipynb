{
 "cells": [
  {
   "cell_type": "markdown",
   "metadata": {},
   "source": [
    "# 文字\n"
   ]
  },
  {
   "cell_type": "code",
   "execution_count": null,
   "metadata": {},
   "outputs": [],
   "source": [
    "import numpy as np\n",
    "import cv2\n",
    "\n",
    "# 创建一个512X512的纯黑色背景的图片\n",
    "img = np.zeros((512,512,3), np.uint8)\n",
    "\n",
    "# 写一段话\n",
    "cv2.putText(img,'Test',(10,125), cv2.FONT_HERSHEY_SIMPLEX, 2,(255,255,255),2,cv2.LINE_AA)\n",
    "\n",
    "#加载 python 库\n",
    "#定义窗口名字，和需要输出的图片\n",
    "cv2.imshow('OpenCV Text',img)\n",
    "cv2.waitKey(0)\n",
    "cv2.destroyAllWindows()"
   ]
  },
  {
   "cell_type": "markdown",
   "metadata": {},
   "source": [
    "# 四边形"
   ]
  },
  {
   "cell_type": "code",
   "execution_count": null,
   "metadata": {},
   "outputs": [],
   "source": [
    "import numpy as np\n",
    "import cv2\n",
    "\n",
    "# 创建一个512X512的纯黑色背景的图片\n",
    "img = np.zeros((512,512,3), np.uint8)\n",
    "\n",
    "# 画一个四边形\n",
    "cv2.rectangle(img,(200,0),(400,500),(0,255,0),3)\n",
    "#加载 python 库\n",
    "#定义窗口名字，和需要输出的图片\n",
    "cv2.imshow('OpenCV Text',img)\n",
    "cv2.waitKey(0)\n",
    "cv2.destroyAllWindows()"
   ]
  },
  {
   "cell_type": "markdown",
   "metadata": {},
   "source": [
    "# 圆形"
   ]
  },
  {
   "cell_type": "code",
   "execution_count": null,
   "metadata": {},
   "outputs": [],
   "source": [
    "import numpy as np\n",
    "import cv2\n",
    "\n",
    "# 创建一个512X512的纯黑色背景的图片\n",
    "img = np.zeros((512,512,3), np.uint8)\n",
    "\n",
    "# 画一个圆形\n",
    "cv2.circle(img,(250,250), 10, (0,0,255), -1)\n",
    "#加载 python 库\n",
    "#定义窗口名字，和需要输出的图片\n",
    "cv2.imshow('OpenCV Text',img)\n",
    "cv2.waitKey(0)\n",
    "cv2.destroyAllWindows()"
   ]
  },
  {
   "cell_type": "markdown",
   "metadata": {},
   "source": [
    "# 椭圆形"
   ]
  },
  {
   "cell_type": "code",
   "execution_count": null,
   "metadata": {},
   "outputs": [],
   "source": [
    "import numpy as np\n",
    "import cv2\n",
    "\n",
    "# 创建一个512X512的纯黑色背景的图片\n",
    "img = np.zeros((512,512,3), np.uint8)\n",
    "\n",
    "# 画一个椭圆形\n",
    "cv2.ellipse(img,(256,256),(100,50),108,0,360,255,-1)\n",
    "#加载 python 库\n",
    "#定义窗口名字，和需要输出的图片\n",
    "cv2.imshow('OpenCV Text',img)\n",
    "cv2.waitKey(0)\n",
    "cv2.destroyAllWindows()"
   ]
  },
  {
   "cell_type": "markdown",
   "metadata": {},
   "source": [
    "# 多边形"
   ]
  },
  {
   "cell_type": "code",
   "execution_count": null,
   "metadata": {},
   "outputs": [],
   "source": [
    "import numpy as np\n",
    "import cv2\n",
    "\n",
    "# 创建一个512X512的纯黑色背景的图片\n",
    "img = np.zeros((512,512,3), np.uint8)\n",
    "\n",
    "# 画一个椭圆形\n",
    "pts = np.array([[10,5],[20,30],[70,20],[50,10]], np.int32)\n",
    "pts = pts.reshape((-1,1,2))\n",
    "img = cv2.polylines(img,[pts],True,(0,255,255))\n",
    "#加载 python 库\n",
    "#定义窗口名字，和需要输出的图片\n",
    "cv2.imshow('OpenCV Text',img)\n",
    "cv2.waitKey(0)\n",
    "cv2.destroyAllWindows()"
   ]
  }
 ],
 "metadata": {
  "kernelspec": {
   "display_name": "Python 3",
   "language": "python",
   "name": "python3"
  },
  "language_info": {
   "codemirror_mode": {
    "name": "ipython",
    "version": 3
   },
   "file_extension": ".py",
   "mimetype": "text/x-python",
   "name": "python",
   "nbconvert_exporter": "python",
   "pygments_lexer": "ipython3",
   "version": "3.7.3"
  }
 },
 "nbformat": 4,
 "nbformat_minor": 2
}
